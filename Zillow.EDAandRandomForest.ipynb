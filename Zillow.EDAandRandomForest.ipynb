{
 "cells": [
  {
   "cell_type": "code",
   "execution_count": 47,
   "metadata": {
    "collapsed": true
   },
   "outputs": [],
   "source": [
    "import pandas as pd\n",
    "import numpy as np"
   ]
  },
  {
   "cell_type": "code",
   "execution_count": 2,
   "metadata": {
    "collapsed": true
   },
   "outputs": [],
   "source": [
    "%matplotlib inline\n",
    "import sklearn\n",
    "import matplotlib.pyplot as plt\n",
    "import seaborn as sns\n",
    "from sklearn.ensemble import RandomForestRegressor\n",
    "from sklearn.preprocessing import LabelEncoder\n"
   ]
  },
  {
   "cell_type": "code",
   "execution_count": 3,
   "metadata": {
    "collapsed": false
   },
   "outputs": [
    {
     "data": {
      "text/plain": [
       "(90275, 3)"
      ]
     },
     "execution_count": 3,
     "metadata": {},
     "output_type": "execute_result"
    }
   ],
   "source": [
    "train_df = pd.read_csv(\"./train_2016_v2.csv\")\n",
    "train_df.shape"
   ]
  },
  {
   "cell_type": "code",
   "execution_count": 4,
   "metadata": {
    "collapsed": false
   },
   "outputs": [
    {
     "data": {
      "text/html": [
       "<div>\n",
       "<table border=\"1\" class=\"dataframe\">\n",
       "  <thead>\n",
       "    <tr style=\"text-align: right;\">\n",
       "      <th></th>\n",
       "      <th>parcelid</th>\n",
       "      <th>logerror</th>\n",
       "      <th>transactiondate</th>\n",
       "    </tr>\n",
       "  </thead>\n",
       "  <tbody>\n",
       "    <tr>\n",
       "      <th>0</th>\n",
       "      <td>11016594</td>\n",
       "      <td>0.0276</td>\n",
       "      <td>2016-01-01</td>\n",
       "    </tr>\n",
       "    <tr>\n",
       "      <th>1</th>\n",
       "      <td>14366692</td>\n",
       "      <td>-0.1684</td>\n",
       "      <td>2016-01-01</td>\n",
       "    </tr>\n",
       "    <tr>\n",
       "      <th>2</th>\n",
       "      <td>12098116</td>\n",
       "      <td>-0.0040</td>\n",
       "      <td>2016-01-01</td>\n",
       "    </tr>\n",
       "    <tr>\n",
       "      <th>3</th>\n",
       "      <td>12643413</td>\n",
       "      <td>0.0218</td>\n",
       "      <td>2016-01-02</td>\n",
       "    </tr>\n",
       "    <tr>\n",
       "      <th>4</th>\n",
       "      <td>14432541</td>\n",
       "      <td>-0.0050</td>\n",
       "      <td>2016-01-02</td>\n",
       "    </tr>\n",
       "    <tr>\n",
       "      <th>5</th>\n",
       "      <td>11509835</td>\n",
       "      <td>-0.2705</td>\n",
       "      <td>2016-01-02</td>\n",
       "    </tr>\n",
       "    <tr>\n",
       "      <th>6</th>\n",
       "      <td>12286022</td>\n",
       "      <td>0.0440</td>\n",
       "      <td>2016-01-02</td>\n",
       "    </tr>\n",
       "    <tr>\n",
       "      <th>7</th>\n",
       "      <td>17177301</td>\n",
       "      <td>0.1638</td>\n",
       "      <td>2016-01-02</td>\n",
       "    </tr>\n",
       "    <tr>\n",
       "      <th>8</th>\n",
       "      <td>14739064</td>\n",
       "      <td>-0.0030</td>\n",
       "      <td>2016-01-02</td>\n",
       "    </tr>\n",
       "    <tr>\n",
       "      <th>9</th>\n",
       "      <td>14677559</td>\n",
       "      <td>0.0843</td>\n",
       "      <td>2016-01-03</td>\n",
       "    </tr>\n",
       "  </tbody>\n",
       "</table>\n",
       "</div>"
      ],
      "text/plain": [
       "   parcelid  logerror transactiondate\n",
       "0  11016594    0.0276      2016-01-01\n",
       "1  14366692   -0.1684      2016-01-01\n",
       "2  12098116   -0.0040      2016-01-01\n",
       "3  12643413    0.0218      2016-01-02\n",
       "4  14432541   -0.0050      2016-01-02\n",
       "5  11509835   -0.2705      2016-01-02\n",
       "6  12286022    0.0440      2016-01-02\n",
       "7  17177301    0.1638      2016-01-02\n",
       "8  14739064   -0.0030      2016-01-02\n",
       "9  14677559    0.0843      2016-01-03"
      ]
     },
     "execution_count": 4,
     "metadata": {},
     "output_type": "execute_result"
    }
   ],
   "source": [
    "train_df.head(n=10)"
   ]
  },
  {
   "cell_type": "code",
   "execution_count": 5,
   "metadata": {
    "collapsed": false
   },
   "outputs": [
    {
     "data": {
      "text/plain": [
       "(2985217, 58)"
      ]
     },
     "execution_count": 5,
     "metadata": {},
     "output_type": "execute_result"
    }
   ],
   "source": [
    "prop= pd.read_csv(\"./properties_2016.csv\",low_memory=False) \n",
    "prop.shape"
   ]
  },
  {
   "cell_type": "code",
   "execution_count": 6,
   "metadata": {
    "collapsed": false
   },
   "outputs": [],
   "source": [
    "#print (train_df['logerror'].min())\n",
    "#print (train_df['logerror'].max())\n"
   ]
  },
  {
   "cell_type": "code",
   "execution_count": 7,
   "metadata": {
    "collapsed": false
   },
   "outputs": [
    {
     "data": {
      "image/png": "[encoded data removed]",
      "text/plain": [
       "<matplotlib.figure.Figure at 0x16934fac9e8>"
      ]
     },
     "metadata": {},
     "output_type": "display_data"
    }
   ],
   "source": [
    "#Histogram of log-errors\n",
    "plt.figure(figsize=(12,10))\n",
    "plt.hist(train_df['logerror'], bins= 100)\n",
    "plt.xlim((train_df['logerror'].min(),train_df['logerror'].max()))\n",
    "plt.title('distribution of log-error')\n",
    "plt.xlabel('log-error')\n",
    "plt.show()\n",
    "# Below histograms suggests that the distribution of log-errors is close to a normal distributions, \n",
    "#it also shows the data has outliers"
   ]
  },
  {
   "cell_type": "code",
   "execution_count": 8,
   "metadata": {
    "collapsed": false,
    "scrolled": true
   },
   "outputs": [],
   "source": [
    "#Transaction data shows how many times each parcel were sold. \n",
    "#size() includes NaN values.\n",
    "transaction = pd.DataFrame({'count' : train_df.groupby(\"parcelid\").size()}).reset_index()\n",
    "\n"
   ]
  },
  {
   "cell_type": "code",
   "execution_count": 50,
   "metadata": {
    "collapsed": false
   },
   "outputs": [
    {
     "name": "stdout",
     "output_type": "stream",
     "text": [
      "The percentage of properties sold once is 99.8624514698%\n",
      "The percentage of properties sold twice is 0.136439267887%\n",
      "The percentage of properties sold more twice is 0.00110926234054%\n"
     ]
    }
   ],
   "source": [
    "print (\"The percentage of properties sold once is \"\n",
    "        + str(transaction[transaction['count']==1].size / transaction.size * 100) + \"%\" )\n",
    "print (\"The percentage of properties sold twice is \"\n",
    "        + str(transaction[transaction['count']==2].size / transaction.size * 100) + \"%\" )\n",
    "print (\"The percentage of properties sold more twice is \"\n",
    "        + str(transaction[transaction['count']>2].size / transaction.size * 100) + \"%\" )\n"
   ]
  },
  {
   "cell_type": "code",
   "execution_count": 14,
   "metadata": {
    "collapsed": false
   },
   "outputs": [
    {
     "data": {
      "text/plain": [
       "1    90026\n",
       "2      123\n",
       "3        1\n",
       "Name: parcelid, dtype: int64"
      ]
     },
     "execution_count": 14,
     "metadata": {},
     "output_type": "execute_result"
    }
   ],
   "source": [
    "(train_df['parcelid'].value_counts().reset_index())['parcelid'].value_counts()"
   ]
  },
  {
   "cell_type": "code",
   "execution_count": 15,
   "metadata": {
    "collapsed": false
   },
   "outputs": [
    {
     "data": {
      "image/png": "[encoded data removed]",
      "text/plain": [
       "<matplotlib.figure.Figure at 0x1694a08bcf8>"
      ]
     },
     "metadata": {},
     "output_type": "display_data"
    }
   ],
   "source": [
    "train_df['transactiondate'] = pd.to_datetime(train_df['transactiondate'])\n",
    "train_df['transactionMonth'] = train_df['transactiondate'].dt.strftime('%b')\n",
    "transaction_month = train_df['transactionMonth'].value_counts()\n",
    "sns.barplot(transaction_month.index, transaction_month.values, order=['Jan','Feb','Mar','Apr','May','Jun','Jul','Aug',\n",
    "                                              'Sep','Oct','Nov','Dec'])\n",
    "plt.xlabel('Month', fontsize=12)\n",
    "plt.ylabel('Number of Transactions', fontsize=12)\n",
    "plt.show()\n",
    "###There are more transactions during summer months, between May and October. Beginning from October till the end of year,\n",
    "##the number of transactions drops significantly compared to the previous months. However, the reason for that drop in the graph is\n",
    "##the dataset contains all transactions before October 15th 2016 and some transactions after that date. "
   ]
  },
  {
   "cell_type": "code",
   "execution_count": 16,
   "metadata": {
    "collapsed": false,
    "scrolled": true
   },
   "outputs": [
    {
     "data": {
      "text/plain": [
       "storytypeid                 0.999456\n",
       "basementsqft                0.999455\n",
       "yardbuildingsqft26          0.999113\n",
       "fireplaceflag               0.998270\n",
       "architecturalstyletypeid    0.997970\n",
       "typeconstructiontypeid      0.997740\n",
       "finishedsquarefeet13        0.997430\n",
       "buildingclasstypeid         0.995769\n",
       "decktypeid                  0.994273\n",
       "finishedsquarefeet6         0.992630\n",
       "poolsizesum                 0.990634\n",
       "pooltypeid2                 0.989255\n",
       "pooltypeid10                0.987626\n",
       "taxdelinquencyflag          0.981086\n",
       "taxdelinquencyyear          0.981085\n",
       "hashottuborspa              0.976881\n",
       "yardbuildingsqft17          0.973082\n",
       "finishedsquarefeet15        0.936086\n",
       "finishedsquarefeet50        0.932093\n",
       "finishedfloor1squarefeet    0.932093\n",
       "threequarterbathnbr         0.895609\n",
       "fireplacecnt                0.895272\n",
       "pooltypeid7                 0.837379\n",
       "poolcnt                     0.826634\n",
       "dtype: float64"
      ]
     },
     "execution_count": 16,
     "metadata": {},
     "output_type": "execute_result"
    }
   ],
   "source": [
    "##Properties data set looks having too many missing values. Let's investigate which variables have the highest missing values.\n",
    "#nans_df = prop.drop('parcelid', axis=1).isnull().sum()\n",
    "nans_df = prop.isnull().sum()\n",
    "nans_df.sort_values(ascending=True, inplace=True)\n",
    "nans_df = nans_df / prop.shape[0]\n",
    "#nans_df.sort_values(ascending = False).head(n=15)\n",
    "nans_df[nans_df>0.8].sort_values(ascending = False)\n",
    "##There are many variables with large missing value percentage"
   ]
  },
  {
   "cell_type": "code",
   "execution_count": 17,
   "metadata": {
    "collapsed": false
   },
   "outputs": [
    {
     "data": {
      "image/png": "[encoded data removed]",
      "text/plain": [
       "<matplotlib.figure.Figure at 0x16901166a20>"
      ]
     },
     "metadata": {},
     "output_type": "display_data"
    }
   ],
   "source": [
    "plt.figure(figsize=(14, 5))\n",
    "plt.bar(range(len(nans_df.index)), nans_df.values)\n",
    "plt.xticks(range(len(nans_df.index)), nans_df.index.values, rotation='vertical')\n",
    "plt.show()"
   ]
  },
  {
   "cell_type": "code",
   "execution_count": 18,
   "metadata": {
    "collapsed": false
   },
   "outputs": [],
   "source": [
    "##Variables which have too many missing values (>80%) are dropped since they will not provide much information for the analysis. \n",
    "zillow= prop.drop(['storytypeid', 'basementsqft', 'yardbuildingsqft26', 'fireplaceflag', 'architecturalstyletypeid', \n",
    "            'typeconstructiontypeid', 'finishedsquarefeet13', 'buildingclasstypeid',\n",
    "            'decktypeid', 'finishedsquarefeet6', 'poolsizesum', 'pooltypeid2', 'pooltypeid10', 'taxdelinquencyflag',\n",
    "            'taxdelinquencyyear', 'hashottuborspa', 'yardbuildingsqft17', 'finishedsquarefeet15', 'finishedsquarefeet50',\n",
    "            'finishedfloor1squarefeet', 'threequarterbathnbr', 'fireplacecnt', 'pooltypeid7', 'poolcnt'], axis=1)"
   ]
  },
  {
   "cell_type": "code",
   "execution_count": 19,
   "metadata": {
    "collapsed": false
   },
   "outputs": [
    {
     "name": "stdout",
     "output_type": "stream",
     "text": [
      "<class 'pandas.core.frame.DataFrame'>\n",
      "RangeIndex: 2985217 entries, 0 to 2985216\n",
      "Data columns (total 34 columns):\n",
      "parcelid                        int64\n",
      "airconditioningtypeid           float64\n",
      "bathroomcnt                     float64\n",
      "bedroomcnt                      float64\n",
      "buildingqualitytypeid           float64\n",
      "calculatedbathnbr               float64\n",
      "calculatedfinishedsquarefeet    float64\n",
      "finishedsquarefeet12            float64\n",
      "fips                            float64\n",
      "fullbathcnt                     float64\n",
      "garagecarcnt                    float64\n",
      "garagetotalsqft                 float64\n",
      "heatingorsystemtypeid           float64\n",
      "latitude                        float64\n",
      "longitude                       float64\n",
      "lotsizesquarefeet               float64\n",
      "propertycountylandusecode       object\n",
      "propertylandusetypeid           float64\n",
      "propertyzoningdesc              object\n",
      "rawcensustractandblock          float64\n",
      "regionidcity                    float64\n",
      "regionidcounty                  float64\n",
      "regionidneighborhood            float64\n",
      "regionidzip                     float64\n",
      "roomcnt                         float64\n",
      "unitcnt                         float64\n",
      "yearbuilt                       float64\n",
      "numberofstories                 float64\n",
      "structuretaxvaluedollarcnt      float64\n",
      "taxvaluedollarcnt               float64\n",
      "assessmentyear                  float64\n",
      "landtaxvaluedollarcnt           float64\n",
      "taxamount                       float64\n",
      "censustractandblock             float64\n",
      "dtypes: float64(31), int64(1), object(2)\n",
      "memory usage: 774.4+ MB\n"
     ]
    }
   ],
   "source": [
    "zillow.info()"
   ]
  },
  {
   "cell_type": "code",
   "execution_count": 20,
   "metadata": {
    "collapsed": false
   },
   "outputs": [
    {
     "data": {
      "text/html": [
       "<div>\n",
       "<table border=\"1\" class=\"dataframe\">\n",
       "  <thead>\n",
       "    <tr style=\"text-align: right;\">\n",
       "      <th></th>\n",
       "      <th>parcelid</th>\n",
       "      <th>logerror</th>\n",
       "      <th>transactiondate</th>\n",
       "      <th>transactionMonth</th>\n",
       "      <th>airconditioningtypeid</th>\n",
       "      <th>bathroomcnt</th>\n",
       "      <th>bedroomcnt</th>\n",
       "      <th>buildingqualitytypeid</th>\n",
       "      <th>calculatedbathnbr</th>\n",
       "      <th>calculatedfinishedsquarefeet</th>\n",
       "      <th>...</th>\n",
       "      <th>roomcnt</th>\n",
       "      <th>unitcnt</th>\n",
       "      <th>yearbuilt</th>\n",
       "      <th>numberofstories</th>\n",
       "      <th>structuretaxvaluedollarcnt</th>\n",
       "      <th>taxvaluedollarcnt</th>\n",
       "      <th>assessmentyear</th>\n",
       "      <th>landtaxvaluedollarcnt</th>\n",
       "      <th>taxamount</th>\n",
       "      <th>censustractandblock</th>\n",
       "    </tr>\n",
       "  </thead>\n",
       "  <tbody>\n",
       "    <tr>\n",
       "      <th>0</th>\n",
       "      <td>11016594</td>\n",
       "      <td>0.0276</td>\n",
       "      <td>2016-01-01</td>\n",
       "      <td>Jan</td>\n",
       "      <td>1.0</td>\n",
       "      <td>2.0</td>\n",
       "      <td>3.0</td>\n",
       "      <td>4.0</td>\n",
       "      <td>2.0</td>\n",
       "      <td>1684.0</td>\n",
       "      <td>...</td>\n",
       "      <td>0.0</td>\n",
       "      <td>1.0</td>\n",
       "      <td>1959.0</td>\n",
       "      <td>NaN</td>\n",
       "      <td>122754.0</td>\n",
       "      <td>360170.0</td>\n",
       "      <td>2015.0</td>\n",
       "      <td>237416.0</td>\n",
       "      <td>6735.88</td>\n",
       "      <td>6.037107e+13</td>\n",
       "    </tr>\n",
       "    <tr>\n",
       "      <th>1</th>\n",
       "      <td>14366692</td>\n",
       "      <td>-0.1684</td>\n",
       "      <td>2016-01-01</td>\n",
       "      <td>Jan</td>\n",
       "      <td>NaN</td>\n",
       "      <td>3.5</td>\n",
       "      <td>4.0</td>\n",
       "      <td>NaN</td>\n",
       "      <td>3.5</td>\n",
       "      <td>2263.0</td>\n",
       "      <td>...</td>\n",
       "      <td>0.0</td>\n",
       "      <td>NaN</td>\n",
       "      <td>2014.0</td>\n",
       "      <td>NaN</td>\n",
       "      <td>346458.0</td>\n",
       "      <td>585529.0</td>\n",
       "      <td>2015.0</td>\n",
       "      <td>239071.0</td>\n",
       "      <td>10153.02</td>\n",
       "      <td>NaN</td>\n",
       "    </tr>\n",
       "    <tr>\n",
       "      <th>2</th>\n",
       "      <td>12098116</td>\n",
       "      <td>-0.0040</td>\n",
       "      <td>2016-01-01</td>\n",
       "      <td>Jan</td>\n",
       "      <td>1.0</td>\n",
       "      <td>3.0</td>\n",
       "      <td>2.0</td>\n",
       "      <td>4.0</td>\n",
       "      <td>3.0</td>\n",
       "      <td>2217.0</td>\n",
       "      <td>...</td>\n",
       "      <td>0.0</td>\n",
       "      <td>1.0</td>\n",
       "      <td>1940.0</td>\n",
       "      <td>NaN</td>\n",
       "      <td>61994.0</td>\n",
       "      <td>119906.0</td>\n",
       "      <td>2015.0</td>\n",
       "      <td>57912.0</td>\n",
       "      <td>11484.48</td>\n",
       "      <td>6.037464e+13</td>\n",
       "    </tr>\n",
       "    <tr>\n",
       "      <th>3</th>\n",
       "      <td>12643413</td>\n",
       "      <td>0.0218</td>\n",
       "      <td>2016-01-02</td>\n",
       "      <td>Jan</td>\n",
       "      <td>1.0</td>\n",
       "      <td>2.0</td>\n",
       "      <td>2.0</td>\n",
       "      <td>4.0</td>\n",
       "      <td>2.0</td>\n",
       "      <td>839.0</td>\n",
       "      <td>...</td>\n",
       "      <td>0.0</td>\n",
       "      <td>1.0</td>\n",
       "      <td>1987.0</td>\n",
       "      <td>NaN</td>\n",
       "      <td>171518.0</td>\n",
       "      <td>244880.0</td>\n",
       "      <td>2015.0</td>\n",
       "      <td>73362.0</td>\n",
       "      <td>3048.74</td>\n",
       "      <td>6.037296e+13</td>\n",
       "    </tr>\n",
       "    <tr>\n",
       "      <th>4</th>\n",
       "      <td>14432541</td>\n",
       "      <td>-0.0050</td>\n",
       "      <td>2016-01-02</td>\n",
       "      <td>Jan</td>\n",
       "      <td>NaN</td>\n",
       "      <td>2.5</td>\n",
       "      <td>4.0</td>\n",
       "      <td>NaN</td>\n",
       "      <td>2.5</td>\n",
       "      <td>2283.0</td>\n",
       "      <td>...</td>\n",
       "      <td>8.0</td>\n",
       "      <td>NaN</td>\n",
       "      <td>1981.0</td>\n",
       "      <td>2.0</td>\n",
       "      <td>169574.0</td>\n",
       "      <td>434551.0</td>\n",
       "      <td>2015.0</td>\n",
       "      <td>264977.0</td>\n",
       "      <td>5488.96</td>\n",
       "      <td>6.059042e+13</td>\n",
       "    </tr>\n",
       "  </tbody>\n",
       "</table>\n",
       "<p>5 rows × 37 columns</p>\n",
       "</div>"
      ],
      "text/plain": [
       "   parcelid  logerror transactiondate transactionMonth  airconditioningtypeid  \\\n",
       "0  11016594    0.0276      2016-01-01              Jan                    1.0   \n",
       "1  14366692   -0.1684      2016-01-01              Jan                    NaN   \n",
       "2  12098116   -0.0040      2016-01-01              Jan                    1.0   \n",
       "3  12643413    0.0218      2016-01-02              Jan                    1.0   \n",
       "4  14432541   -0.0050      2016-01-02              Jan                    NaN   \n",
       "\n",
       "   bathroomcnt  bedroomcnt  buildingqualitytypeid  calculatedbathnbr  \\\n",
       "0          2.0         3.0                    4.0                2.0   \n",
       "1          3.5         4.0                    NaN                3.5   \n",
       "2          3.0         2.0                    4.0                3.0   \n",
       "3          2.0         2.0                    4.0                2.0   \n",
       "4          2.5         4.0                    NaN                2.5   \n",
       "\n",
       "   calculatedfinishedsquarefeet         ...          roomcnt  unitcnt  \\\n",
       "0                        1684.0         ...              0.0      1.0   \n",
       "1                        2263.0         ...              0.0      NaN   \n",
       "2                        2217.0         ...              0.0      1.0   \n",
       "3                         839.0         ...              0.0      1.0   \n",
       "4                        2283.0         ...              8.0      NaN   \n",
       "\n",
       "   yearbuilt  numberofstories  structuretaxvaluedollarcnt  taxvaluedollarcnt  \\\n",
       "0     1959.0              NaN                    122754.0           360170.0   \n",
       "1     2014.0              NaN                    346458.0           585529.0   \n",
       "2     1940.0              NaN                     61994.0           119906.0   \n",
       "3     1987.0              NaN                    171518.0           244880.0   \n",
       "4     1981.0              2.0                    169574.0           434551.0   \n",
       "\n",
       "   assessmentyear  landtaxvaluedollarcnt  taxamount censustractandblock  \n",
       "0          2015.0               237416.0    6735.88        6.037107e+13  \n",
       "1          2015.0               239071.0   10153.02                 NaN  \n",
       "2          2015.0                57912.0   11484.48        6.037464e+13  \n",
       "3          2015.0                73362.0    3048.74        6.037296e+13  \n",
       "4          2015.0               264977.0    5488.96        6.059042e+13  \n",
       "\n",
       "[5 rows x 37 columns]"
      ]
     },
     "execution_count": 20,
     "metadata": {},
     "output_type": "execute_result"
    }
   ],
   "source": [
    "train = pd.merge(train_df, zillow, on='parcelid', how='left')\n",
    "train.head()"
   ]
  },
  {
   "cell_type": "code",
   "execution_count": 21,
   "metadata": {
    "collapsed": false
   },
   "outputs": [
    {
     "data": {
      "text/plain": [
       "0.0"
      ]
     },
     "execution_count": 21,
     "metadata": {},
     "output_type": "execute_result"
    }
   ],
   "source": [
    "##It looks like there are repetations in features, eg. bathroomcnt and calculatedbathnbr are the same. \n",
    "(train['bathroomcnt']-train['calculatedbathnbr']).sum()"
   ]
  },
  {
   "cell_type": "code",
   "execution_count": 22,
   "metadata": {
    "collapsed": true
   },
   "outputs": [],
   "source": [
    "train= train.drop('calculatedbathnbr',axis =1)"
   ]
  },
  {
   "cell_type": "code",
   "execution_count": 23,
   "metadata": {
    "collapsed": false
   },
   "outputs": [
    {
     "data": {
      "text/html": [
       "<div>\n",
       "<table border=\"1\" class=\"dataframe\">\n",
       "  <thead>\n",
       "    <tr style=\"text-align: right;\">\n",
       "      <th></th>\n",
       "      <th>rawcensustractandblock</th>\n",
       "      <th>censustractandblock</th>\n",
       "    </tr>\n",
       "  </thead>\n",
       "  <tbody>\n",
       "    <tr>\n",
       "      <th>0</th>\n",
       "      <td>6.037107e+07</td>\n",
       "      <td>6.037107e+13</td>\n",
       "    </tr>\n",
       "    <tr>\n",
       "      <th>1</th>\n",
       "      <td>6.059052e+07</td>\n",
       "      <td>NaN</td>\n",
       "    </tr>\n",
       "    <tr>\n",
       "      <th>2</th>\n",
       "      <td>6.037464e+07</td>\n",
       "      <td>6.037464e+13</td>\n",
       "    </tr>\n",
       "    <tr>\n",
       "      <th>3</th>\n",
       "      <td>6.037296e+07</td>\n",
       "      <td>6.037296e+13</td>\n",
       "    </tr>\n",
       "    <tr>\n",
       "      <th>4</th>\n",
       "      <td>6.059042e+07</td>\n",
       "      <td>6.059042e+13</td>\n",
       "    </tr>\n",
       "  </tbody>\n",
       "</table>\n",
       "</div>"
      ],
      "text/plain": [
       "   rawcensustractandblock  censustractandblock\n",
       "0            6.037107e+07         6.037107e+13\n",
       "1            6.059052e+07                  NaN\n",
       "2            6.037464e+07         6.037464e+13\n",
       "3            6.037296e+07         6.037296e+13\n",
       "4            6.059042e+07         6.059042e+13"
      ]
     },
     "execution_count": 23,
     "metadata": {},
     "output_type": "execute_result"
    }
   ],
   "source": [
    "(train[['rawcensustractandblock','censustractandblock']]).head()"
   ]
  },
  {
   "cell_type": "code",
   "execution_count": 24,
   "metadata": {
    "collapsed": false
   },
   "outputs": [
    {
     "data": {
      "text/plain": [
       "0"
      ]
     },
     "execution_count": 24,
     "metadata": {},
     "output_type": "execute_result"
    }
   ],
   "source": [
    "train['rawcensustractandblock'].isnull().sum()"
   ]
  },
  {
   "cell_type": "code",
   "execution_count": 25,
   "metadata": {
    "collapsed": true
   },
   "outputs": [],
   "source": [
    "##In the data dictionary, the definition of 'rawcensustractandblock' and 'censustractandblock' are the same,eg.census tract and\n",
    "##block ID combined. So, I drop one of them. \n",
    "train = train.drop('censustractandblock',axis = 1)"
   ]
  },
  {
   "cell_type": "code",
   "execution_count": 26,
   "metadata": {
    "collapsed": true
   },
   "outputs": [],
   "source": [
    "train = train.drop(['propertyzoningdesc', 'propertycountylandusecode'], axis =1)#object features(like id)"
   ]
  },
  {
   "cell_type": "code",
   "execution_count": 27,
   "metadata": {
    "collapsed": false
   },
   "outputs": [],
   "source": [
    "for l in train[['transactionMonth']]:\n",
    "                #,'propertycountylandusecode', 'propertyzoningdesc']]:\n",
    "    label = LabelEncoder()\n",
    "    label.fit(list(train[l].values))\n",
    "    train[l] = label.transform(list(train[l].values))"
   ]
  },
  {
   "cell_type": "code",
   "execution_count": 97,
   "metadata": {
    "collapsed": true
   },
   "outputs": [],
   "source": [
    "##Skip this cell for a while\n",
    "#X_train = train.drop(['parcelid', 'logerror', 'transactiondate'], axis=1).as_matrix()\n",
    "#y_train = train['logerror'].values\n",
    "#names = train.drop(['parcelid', 'logerror', 'transactiondate'], axis=1).columns"
   ]
  },
  {
   "cell_type": "code",
   "execution_count": 28,
   "metadata": {
    "collapsed": false
   },
   "outputs": [],
   "source": [
    "#Since Random Forest Regressor does not handle nan's and its performance gets worse when adding \n",
    "#features with increasing percentages of nan's. One of the suggested solution is\n",
    "#replace nan's with a single \"clearly out-of-range\" value (like -1.0). \n",
    "#This enables the tree to split on the criteria \"known values vs unknown values\"\n",
    "train_nan = train\n",
    "for x in train_nan.columns:\n",
    "    train_nan[x] = train_nan[x].fillna(-1)\n",
    "\n",
    "X_train = train_nan.drop(['parcelid', 'logerror', 'transactiondate'], axis=1).as_matrix()\n",
    "y_train = train_nan['logerror'].values\n",
    "names = train.drop(['parcelid', 'logerror', 'transactiondate'], axis=1).columns"
   ]
  },
  {
   "cell_type": "code",
   "execution_count": 26,
   "metadata": {
    "collapsed": false
   },
   "outputs": [],
   "source": [
    "#X_train.dtypes"
   ]
  },
  {
   "cell_type": "code",
   "execution_count": 29,
   "metadata": {
    "collapsed": false
   },
   "outputs": [],
   "source": [
    "#random forest\n",
    "rf1 = RandomForestRegressor(n_estimators=30, max_features=None)"
   ]
  },
  {
   "cell_type": "code",
   "execution_count": 30,
   "metadata": {
    "collapsed": false
   },
   "outputs": [
    {
     "data": {
      "text/plain": [
       "RandomForestRegressor(bootstrap=True, criterion='mse', max_depth=None,\n",
       "           max_features=None, max_leaf_nodes=None,\n",
       "           min_impurity_split=1e-07, min_samples_leaf=1,\n",
       "           min_samples_split=2, min_weight_fraction_leaf=0.0,\n",
       "           n_estimators=30, n_jobs=1, oob_score=False, random_state=None,\n",
       "           verbose=0, warm_start=False)"
      ]
     },
     "execution_count": 30,
     "metadata": {},
     "output_type": "execute_result"
    }
   ],
   "source": [
    "rf1.fit(X_train, y_train)"
   ]
  },
  {
   "cell_type": "code",
   "execution_count": 31,
   "metadata": {
    "collapsed": false
   },
   "outputs": [
    {
     "name": "stdout",
     "output_type": "stream",
     "text": [
      "Features sorted by their score:\n",
      "[(0.091899999999999996, 'structuretaxvaluedollarcnt'), (0.089499999999999996, 'longitude'), (0.088599999999999998, 'latitude'), (0.079200000000000007, 'taxamount'), (0.077600000000000002, 'lotsizesquarefeet'), (0.072800000000000004, 'landtaxvaluedollarcnt'), (0.067900000000000002, 'taxvaluedollarcnt'), (0.057200000000000001, 'calculatedfinishedsquarefeet'), (0.0557, 'yearbuilt'), (0.045999999999999999, 'finishedsquarefeet12'), (0.043200000000000002, 'regionidzip'), (0.041799999999999997, 'rawcensustractandblock'), (0.0349, 'transactionMonth'), (0.0246, 'regionidcity'), (0.023699999999999999, 'regionidneighborhood'), (0.017600000000000001, 'bedroomcnt'), (0.012699999999999999, 'garagetotalsqft'), (0.012699999999999999, 'bathroomcnt'), (0.0094000000000000004, 'fullbathcnt'), (0.0091000000000000004, 'propertylandusetypeid'), (0.0088000000000000005, 'buildingqualitytypeid'), (0.0083999999999999995, 'heatingorsystemtypeid'), (0.0074999999999999997, 'airconditioningtypeid'), (0.0064000000000000003, 'roomcnt'), (0.0047000000000000002, 'numberofstories'), (0.0035000000000000001, 'unitcnt'), (0.0022000000000000001, 'garagecarcnt'), (0.0011999999999999999, 'fips'), (0.001, 'regionidcounty'), (0.0, 'assessmentyear')]\n"
     ]
    }
   ],
   "source": [
    "##Mean decrease impurity\n",
    "##Gini impurity is a measure of how often a randomly chosen element from the set would be incorrectly labeled \n",
    "#if it was randomly labeled according to the distribution of labels in the subset.\n",
    "print (\"Features sorted by their score:\")\n",
    "print (sorted(zip(map(lambda x: round(x, 4), rf1.feature_importances_), names), \n",
    "             reverse=True) )"
   ]
  },
  {
   "cell_type": "code",
   "execution_count": 32,
   "metadata": {
    "collapsed": false
   },
   "outputs": [],
   "source": [
    "#random forest\n",
    "rf2 = RandomForestRegressor(n_estimators=50, max_features=None)"
   ]
  },
  {
   "cell_type": "code",
   "execution_count": 33,
   "metadata": {
    "collapsed": false,
    "scrolled": true
   },
   "outputs": [
    {
     "data": {
      "text/plain": [
       "RandomForestRegressor(bootstrap=True, criterion='mse', max_depth=None,\n",
       "           max_features=None, max_leaf_nodes=None,\n",
       "           min_impurity_split=1e-07, min_samples_leaf=1,\n",
       "           min_samples_split=2, min_weight_fraction_leaf=0.0,\n",
       "           n_estimators=50, n_jobs=1, oob_score=False, random_state=None,\n",
       "           verbose=0, warm_start=False)"
      ]
     },
     "execution_count": 33,
     "metadata": {},
     "output_type": "execute_result"
    }
   ],
   "source": [
    "rf2.fit(X_train, y_train)"
   ]
  },
  {
   "cell_type": "code",
   "execution_count": 34,
   "metadata": {
    "collapsed": false
   },
   "outputs": [
    {
     "name": "stdout",
     "output_type": "stream",
     "text": [
      "Features sorted by their score:\n",
      "[(0.087400000000000005, 'latitude'), (0.087099999999999997, 'structuretaxvaluedollarcnt'), (0.085500000000000007, 'longitude'), (0.085099999999999995, 'taxamount'), (0.079100000000000004, 'lotsizesquarefeet'), (0.071099999999999997, 'landtaxvaluedollarcnt'), (0.067299999999999999, 'taxvaluedollarcnt'), (0.057799999999999997, 'calculatedfinishedsquarefeet'), (0.054899999999999997, 'yearbuilt'), (0.046899999999999997, 'finishedsquarefeet12'), (0.043499999999999997, 'regionidzip'), (0.040899999999999999, 'rawcensustractandblock'), (0.039300000000000002, 'transactionMonth'), (0.0253, 'regionidneighborhood'), (0.0247, 'regionidcity'), (0.0195, 'bedroomcnt'), (0.012200000000000001, 'garagetotalsqft'), (0.0117, 'bathroomcnt'), (0.01, 'propertylandusetypeid'), (0.0086, 'fullbathcnt'), (0.0080999999999999996, 'heatingorsystemtypeid'), (0.0080000000000000002, 'buildingqualitytypeid'), (0.0079000000000000008, 'airconditioningtypeid'), (0.0061999999999999998, 'roomcnt'), (0.0037000000000000002, 'numberofstories'), (0.0033999999999999998, 'unitcnt'), (0.0023, 'garagecarcnt'), (0.0016000000000000001, 'regionidcounty'), (0.00089999999999999998, 'fips'), (0.0, 'assessmentyear')]\n"
     ]
    }
   ],
   "source": [
    "##Mean decrease impurity\n",
    "##Gini impurity is a measure of how often a randomly chosen element from the set would be incorrectly labeled \n",
    "#if it was randomly labeled according to the distribution of labels in the subset.\n",
    "print (\"Features sorted by their score:\")\n",
    "print (sorted(zip(map(lambda x: round(x, 4), rf2.feature_importances_), names), \n",
    "             reverse=True) )"
   ]
  },
  {
   "cell_type": "code",
   "execution_count": 35,
   "metadata": {
    "collapsed": false
   },
   "outputs": [
    {
     "data": {
      "image/png": "[encoded data removed]",
      "text/plain": [
       "<matplotlib.figure.Figure at 0x1694dc5f0f0>"
      ]
     },
     "metadata": {},
     "output_type": "display_data"
    }
   ],
   "source": [
    "importances2 = rf2.feature_importances_\n",
    "indices2 = np.argsort(importances2)\n",
    "\n",
    "plt.title('Feature Importances with Random Forest n_estimators=50')\n",
    "plt.barh(range(len(indices2)), importances2[indices2], color='b', align='center')\n",
    "plt.yticks(range(len(indices2)), names) \n",
    "plt.xlabel('Relative Importance')\n",
    "plt.show()"
   ]
  },
  {
   "cell_type": "code",
   "execution_count": 36,
   "metadata": {
    "collapsed": false
   },
   "outputs": [],
   "source": [
    "#Imputer\n",
    "from sklearn.preprocessing import Imputer\n",
    "imp = Imputer(missing_values='NaN', strategy='median', axis=0)\n",
    "X_imp = imp.fit_transform(train.drop(['parcelid', 'logerror', 'transactiondate'], axis=1).as_matrix())"
   ]
  },
  {
   "cell_type": "code",
   "execution_count": 37,
   "metadata": {
    "collapsed": false
   },
   "outputs": [],
   "source": [
    "#random forest\n",
    "rf3 = RandomForestRegressor(n_estimators=50, max_features=None)"
   ]
  },
  {
   "cell_type": "code",
   "execution_count": 38,
   "metadata": {
    "collapsed": false,
    "scrolled": true
   },
   "outputs": [
    {
     "data": {
      "text/plain": [
       "RandomForestRegressor(bootstrap=True, criterion='mse', max_depth=None,\n",
       "           max_features=None, max_leaf_nodes=None,\n",
       "           min_impurity_split=1e-07, min_samples_leaf=1,\n",
       "           min_samples_split=2, min_weight_fraction_leaf=0.0,\n",
       "           n_estimators=50, n_jobs=1, oob_score=False, random_state=None,\n",
       "           verbose=0, warm_start=False)"
      ]
     },
     "execution_count": 38,
     "metadata": {},
     "output_type": "execute_result"
    }
   ],
   "source": [
    "rf3.fit(X_imp, y_train)"
   ]
  },
  {
   "cell_type": "code",
   "execution_count": 39,
   "metadata": {
    "collapsed": false
   },
   "outputs": [
    {
     "name": "stdout",
     "output_type": "stream",
     "text": [
      "Features sorted by their score:\n",
      "[(0.089800000000000005, 'latitude'), (0.086900000000000005, 'structuretaxvaluedollarcnt'), (0.086900000000000005, 'longitude'), (0.084500000000000006, 'taxamount'), (0.081600000000000006, 'lotsizesquarefeet'), (0.070199999999999999, 'landtaxvaluedollarcnt'), (0.069699999999999998, 'taxvaluedollarcnt'), (0.0579, 'calculatedfinishedsquarefeet'), (0.055800000000000002, 'yearbuilt'), (0.0465, 'finishedsquarefeet12'), (0.042900000000000001, 'regionidzip'), (0.040000000000000001, 'rawcensustractandblock'), (0.037400000000000003, 'transactionMonth'), (0.024500000000000001, 'regionidneighborhood'), (0.023900000000000001, 'regionidcity'), (0.018100000000000002, 'bedroomcnt'), (0.012699999999999999, 'garagetotalsqft'), (0.0117, 'bathroomcnt'), (0.0095999999999999992, 'fullbathcnt'), (0.0086999999999999994, 'propertylandusetypeid'), (0.0080999999999999996, 'buildingqualitytypeid'), (0.0079000000000000008, 'heatingorsystemtypeid'), (0.0074000000000000003, 'airconditioningtypeid'), (0.0057999999999999996, 'roomcnt'), (0.0035000000000000001, 'unitcnt'), (0.0035000000000000001, 'numberofstories'), (0.0027000000000000001, 'garagecarcnt'), (0.0011999999999999999, 'regionidcounty'), (0.00089999999999999998, 'fips'), (0.0, 'assessmentyear')]\n"
     ]
    }
   ],
   "source": [
    "##Mean decrease impurity\n",
    "##Gini impurity is a measure of how often a randomly chosen element from the set would be incorrectly labeled \n",
    "#if it was randomly labeled according to the distribution of labels in the subset.\n",
    "print (\"Features sorted by their score:\")\n",
    "print (sorted(zip(map(lambda x: round(x, 4), rf3.feature_importances_), names), \n",
    "             reverse=True) )"
   ]
  },
  {
   "cell_type": "code",
   "execution_count": 40,
   "metadata": {
    "collapsed": false
   },
   "outputs": [
    {
     "data": {
      "text/plain": [
       "array([ 0.03741589,  0.00738642,  0.01166075,  0.01811576,  0.00807302,\n",
       "        0.05791808,  0.04654692,  0.00085047,  0.00956677,  0.00273832,\n",
       "        0.01272957,  0.00788817,  0.08980717,  0.08685678,  0.08156746,\n",
       "        0.0086706 ,  0.03998537,  0.02388383,  0.0011849 ,  0.02448952,\n",
       "        0.04289896,  0.00580617,  0.0034505 ,  0.05577718,  0.00351939,\n",
       "        0.0869165 ,  0.06968548,  0.        ,  0.07015567,  0.0844544 ])"
      ]
     },
     "execution_count": 40,
     "metadata": {},
     "output_type": "execute_result"
    }
   ],
   "source": [
    "rf3.feature_importances_"
   ]
  },
  {
   "cell_type": "code",
   "execution_count": 48,
   "metadata": {
    "collapsed": false
   },
   "outputs": [],
   "source": [
    "#importances = rf3.feature_importances_\n",
    "#indices = np.argsort(importances)\n",
    "\n",
    "#plt.title('Feature Importances with Median Imputer')\n",
    "#plt.barh(range(len(indices)), importances[indices], color='b', align='center')\n",
    "#plt.yticks(range(len(indices)), names) \n",
    "#plt.xlabel('Relative Importance')\n",
    "#plt.show()"
   ]
  },
  {
   "cell_type": "code",
   "execution_count": 42,
   "metadata": {
    "collapsed": false
   },
   "outputs": [
    {
     "data": {
      "text/html": [
       "<div>\n",
       "<table border=\"1\" class=\"dataframe\">\n",
       "  <thead>\n",
       "    <tr style=\"text-align: right;\">\n",
       "      <th></th>\n",
       "      <th>Feature_Name</th>\n",
       "      <th>Importance1</th>\n",
       "      <th>Importance2</th>\n",
       "      <th>Importance3</th>\n",
       "    </tr>\n",
       "  </thead>\n",
       "  <tbody>\n",
       "    <tr>\n",
       "      <th>0</th>\n",
       "      <td>transactionMonth</td>\n",
       "      <td>0.034863</td>\n",
       "      <td>0.039273</td>\n",
       "      <td>0.037416</td>\n",
       "    </tr>\n",
       "    <tr>\n",
       "      <th>1</th>\n",
       "      <td>airconditioningtypeid</td>\n",
       "      <td>0.007466</td>\n",
       "      <td>0.007892</td>\n",
       "      <td>0.007386</td>\n",
       "    </tr>\n",
       "    <tr>\n",
       "      <th>2</th>\n",
       "      <td>bathroomcnt</td>\n",
       "      <td>0.012678</td>\n",
       "      <td>0.011670</td>\n",
       "      <td>0.011661</td>\n",
       "    </tr>\n",
       "    <tr>\n",
       "      <th>3</th>\n",
       "      <td>bedroomcnt</td>\n",
       "      <td>0.017625</td>\n",
       "      <td>0.019533</td>\n",
       "      <td>0.018116</td>\n",
       "    </tr>\n",
       "    <tr>\n",
       "      <th>4</th>\n",
       "      <td>buildingqualitytypeid</td>\n",
       "      <td>0.008768</td>\n",
       "      <td>0.008047</td>\n",
       "      <td>0.008073</td>\n",
       "    </tr>\n",
       "    <tr>\n",
       "      <th>5</th>\n",
       "      <td>calculatedfinishedsquarefeet</td>\n",
       "      <td>0.057163</td>\n",
       "      <td>0.057805</td>\n",
       "      <td>0.057918</td>\n",
       "    </tr>\n",
       "    <tr>\n",
       "      <th>6</th>\n",
       "      <td>finishedsquarefeet12</td>\n",
       "      <td>0.046004</td>\n",
       "      <td>0.046906</td>\n",
       "      <td>0.046547</td>\n",
       "    </tr>\n",
       "    <tr>\n",
       "      <th>7</th>\n",
       "      <td>fips</td>\n",
       "      <td>0.001235</td>\n",
       "      <td>0.000918</td>\n",
       "      <td>0.000850</td>\n",
       "    </tr>\n",
       "    <tr>\n",
       "      <th>8</th>\n",
       "      <td>fullbathcnt</td>\n",
       "      <td>0.009424</td>\n",
       "      <td>0.008599</td>\n",
       "      <td>0.009567</td>\n",
       "    </tr>\n",
       "    <tr>\n",
       "      <th>9</th>\n",
       "      <td>garagecarcnt</td>\n",
       "      <td>0.002219</td>\n",
       "      <td>0.002345</td>\n",
       "      <td>0.002738</td>\n",
       "    </tr>\n",
       "    <tr>\n",
       "      <th>10</th>\n",
       "      <td>garagetotalsqft</td>\n",
       "      <td>0.012668</td>\n",
       "      <td>0.012193</td>\n",
       "      <td>0.012730</td>\n",
       "    </tr>\n",
       "    <tr>\n",
       "      <th>11</th>\n",
       "      <td>heatingorsystemtypeid</td>\n",
       "      <td>0.008443</td>\n",
       "      <td>0.008085</td>\n",
       "      <td>0.007888</td>\n",
       "    </tr>\n",
       "    <tr>\n",
       "      <th>12</th>\n",
       "      <td>latitude</td>\n",
       "      <td>0.088636</td>\n",
       "      <td>0.087380</td>\n",
       "      <td>0.089807</td>\n",
       "    </tr>\n",
       "    <tr>\n",
       "      <th>13</th>\n",
       "      <td>longitude</td>\n",
       "      <td>0.089549</td>\n",
       "      <td>0.085481</td>\n",
       "      <td>0.086857</td>\n",
       "    </tr>\n",
       "    <tr>\n",
       "      <th>14</th>\n",
       "      <td>lotsizesquarefeet</td>\n",
       "      <td>0.077618</td>\n",
       "      <td>0.079115</td>\n",
       "      <td>0.081567</td>\n",
       "    </tr>\n",
       "    <tr>\n",
       "      <th>15</th>\n",
       "      <td>propertylandusetypeid</td>\n",
       "      <td>0.009148</td>\n",
       "      <td>0.010020</td>\n",
       "      <td>0.008671</td>\n",
       "    </tr>\n",
       "    <tr>\n",
       "      <th>16</th>\n",
       "      <td>rawcensustractandblock</td>\n",
       "      <td>0.041757</td>\n",
       "      <td>0.040861</td>\n",
       "      <td>0.039985</td>\n",
       "    </tr>\n",
       "    <tr>\n",
       "      <th>17</th>\n",
       "      <td>regionidcity</td>\n",
       "      <td>0.024638</td>\n",
       "      <td>0.024669</td>\n",
       "      <td>0.023884</td>\n",
       "    </tr>\n",
       "    <tr>\n",
       "      <th>18</th>\n",
       "      <td>regionidcounty</td>\n",
       "      <td>0.001040</td>\n",
       "      <td>0.001613</td>\n",
       "      <td>0.001185</td>\n",
       "    </tr>\n",
       "    <tr>\n",
       "      <th>19</th>\n",
       "      <td>regionidneighborhood</td>\n",
       "      <td>0.023719</td>\n",
       "      <td>0.025338</td>\n",
       "      <td>0.024490</td>\n",
       "    </tr>\n",
       "    <tr>\n",
       "      <th>20</th>\n",
       "      <td>regionidzip</td>\n",
       "      <td>0.043182</td>\n",
       "      <td>0.043471</td>\n",
       "      <td>0.042899</td>\n",
       "    </tr>\n",
       "    <tr>\n",
       "      <th>21</th>\n",
       "      <td>roomcnt</td>\n",
       "      <td>0.006397</td>\n",
       "      <td>0.006173</td>\n",
       "      <td>0.005806</td>\n",
       "    </tr>\n",
       "    <tr>\n",
       "      <th>22</th>\n",
       "      <td>unitcnt</td>\n",
       "      <td>0.003539</td>\n",
       "      <td>0.003430</td>\n",
       "      <td>0.003451</td>\n",
       "    </tr>\n",
       "    <tr>\n",
       "      <th>23</th>\n",
       "      <td>yearbuilt</td>\n",
       "      <td>0.055712</td>\n",
       "      <td>0.054938</td>\n",
       "      <td>0.055777</td>\n",
       "    </tr>\n",
       "    <tr>\n",
       "      <th>24</th>\n",
       "      <td>numberofstories</td>\n",
       "      <td>0.004699</td>\n",
       "      <td>0.003667</td>\n",
       "      <td>0.003519</td>\n",
       "    </tr>\n",
       "    <tr>\n",
       "      <th>25</th>\n",
       "      <td>structuretaxvaluedollarcnt</td>\n",
       "      <td>0.091907</td>\n",
       "      <td>0.087095</td>\n",
       "      <td>0.086916</td>\n",
       "    </tr>\n",
       "    <tr>\n",
       "      <th>26</th>\n",
       "      <td>taxvaluedollarcnt</td>\n",
       "      <td>0.067917</td>\n",
       "      <td>0.067311</td>\n",
       "      <td>0.069685</td>\n",
       "    </tr>\n",
       "    <tr>\n",
       "      <th>27</th>\n",
       "      <td>assessmentyear</td>\n",
       "      <td>0.000000</td>\n",
       "      <td>0.000000</td>\n",
       "      <td>0.000000</td>\n",
       "    </tr>\n",
       "    <tr>\n",
       "      <th>28</th>\n",
       "      <td>landtaxvaluedollarcnt</td>\n",
       "      <td>0.072793</td>\n",
       "      <td>0.071059</td>\n",
       "      <td>0.070156</td>\n",
       "    </tr>\n",
       "    <tr>\n",
       "      <th>29</th>\n",
       "      <td>taxamount</td>\n",
       "      <td>0.079193</td>\n",
       "      <td>0.085111</td>\n",
       "      <td>0.084454</td>\n",
       "    </tr>\n",
       "  </tbody>\n",
       "</table>\n",
       "</div>"
      ],
      "text/plain": [
       "                    Feature_Name  Importance1  Importance2  Importance3\n",
       "0               transactionMonth     0.034863     0.039273     0.037416\n",
       "1          airconditioningtypeid     0.007466     0.007892     0.007386\n",
       "2                    bathroomcnt     0.012678     0.011670     0.011661\n",
       "3                     bedroomcnt     0.017625     0.019533     0.018116\n",
       "4          buildingqualitytypeid     0.008768     0.008047     0.008073\n",
       "5   calculatedfinishedsquarefeet     0.057163     0.057805     0.057918\n",
       "6           finishedsquarefeet12     0.046004     0.046906     0.046547\n",
       "7                           fips     0.001235     0.000918     0.000850\n",
       "8                    fullbathcnt     0.009424     0.008599     0.009567\n",
       "9                   garagecarcnt     0.002219     0.002345     0.002738\n",
       "10               garagetotalsqft     0.012668     0.012193     0.012730\n",
       "11         heatingorsystemtypeid     0.008443     0.008085     0.007888\n",
       "12                      latitude     0.088636     0.087380     0.089807\n",
       "13                     longitude     0.089549     0.085481     0.086857\n",
       "14             lotsizesquarefeet     0.077618     0.079115     0.081567\n",
       "15         propertylandusetypeid     0.009148     0.010020     0.008671\n",
       "16        rawcensustractandblock     0.041757     0.040861     0.039985\n",
       "17                  regionidcity     0.024638     0.024669     0.023884\n",
       "18                regionidcounty     0.001040     0.001613     0.001185\n",
       "19          regionidneighborhood     0.023719     0.025338     0.024490\n",
       "20                   regionidzip     0.043182     0.043471     0.042899\n",
       "21                       roomcnt     0.006397     0.006173     0.005806\n",
       "22                       unitcnt     0.003539     0.003430     0.003451\n",
       "23                     yearbuilt     0.055712     0.054938     0.055777\n",
       "24               numberofstories     0.004699     0.003667     0.003519\n",
       "25    structuretaxvaluedollarcnt     0.091907     0.087095     0.086916\n",
       "26             taxvaluedollarcnt     0.067917     0.067311     0.069685\n",
       "27                assessmentyear     0.000000     0.000000     0.000000\n",
       "28         landtaxvaluedollarcnt     0.072793     0.071059     0.070156\n",
       "29                     taxamount     0.079193     0.085111     0.084454"
      ]
     },
     "execution_count": 42,
     "metadata": {},
     "output_type": "execute_result"
    }
   ],
   "source": [
    "list = pd.DataFrame(\n",
    "    {'Feature_Name': names,\n",
    "     'Importance1': rf1.feature_importances_,\n",
    "     'Importance2': rf2.feature_importances_,\n",
    "     'Importance3': rf3.feature_importances_\n",
    "    })\n",
    "list\n",
    "\n"
   ]
  },
  {
   "cell_type": "code",
   "execution_count": 43,
   "metadata": {
    "collapsed": false
   },
   "outputs": [
    {
     "data": {
      "text/html": [
       "<div>\n",
       "<table border=\"1\" class=\"dataframe\">\n",
       "  <thead>\n",
       "    <tr style=\"text-align: right;\">\n",
       "      <th></th>\n",
       "      <th>Feature_Name</th>\n",
       "      <th>Importance1</th>\n",
       "      <th>Importance2</th>\n",
       "      <th>Importance3</th>\n",
       "    </tr>\n",
       "  </thead>\n",
       "  <tbody>\n",
       "    <tr>\n",
       "      <th>25</th>\n",
       "      <td>structuretaxvaluedollarcnt</td>\n",
       "      <td>0.091907</td>\n",
       "      <td>0.087095</td>\n",
       "      <td>0.086916</td>\n",
       "    </tr>\n",
       "    <tr>\n",
       "      <th>13</th>\n",
       "      <td>longitude</td>\n",
       "      <td>0.089549</td>\n",
       "      <td>0.085481</td>\n",
       "      <td>0.086857</td>\n",
       "    </tr>\n",
       "    <tr>\n",
       "      <th>12</th>\n",
       "      <td>latitude</td>\n",
       "      <td>0.088636</td>\n",
       "      <td>0.087380</td>\n",
       "      <td>0.089807</td>\n",
       "    </tr>\n",
       "    <tr>\n",
       "      <th>29</th>\n",
       "      <td>taxamount</td>\n",
       "      <td>0.079193</td>\n",
       "      <td>0.085111</td>\n",
       "      <td>0.084454</td>\n",
       "    </tr>\n",
       "    <tr>\n",
       "      <th>14</th>\n",
       "      <td>lotsizesquarefeet</td>\n",
       "      <td>0.077618</td>\n",
       "      <td>0.079115</td>\n",
       "      <td>0.081567</td>\n",
       "    </tr>\n",
       "    <tr>\n",
       "      <th>28</th>\n",
       "      <td>landtaxvaluedollarcnt</td>\n",
       "      <td>0.072793</td>\n",
       "      <td>0.071059</td>\n",
       "      <td>0.070156</td>\n",
       "    </tr>\n",
       "    <tr>\n",
       "      <th>26</th>\n",
       "      <td>taxvaluedollarcnt</td>\n",
       "      <td>0.067917</td>\n",
       "      <td>0.067311</td>\n",
       "      <td>0.069685</td>\n",
       "    </tr>\n",
       "    <tr>\n",
       "      <th>5</th>\n",
       "      <td>calculatedfinishedsquarefeet</td>\n",
       "      <td>0.057163</td>\n",
       "      <td>0.057805</td>\n",
       "      <td>0.057918</td>\n",
       "    </tr>\n",
       "    <tr>\n",
       "      <th>23</th>\n",
       "      <td>yearbuilt</td>\n",
       "      <td>0.055712</td>\n",
       "      <td>0.054938</td>\n",
       "      <td>0.055777</td>\n",
       "    </tr>\n",
       "    <tr>\n",
       "      <th>6</th>\n",
       "      <td>finishedsquarefeet12</td>\n",
       "      <td>0.046004</td>\n",
       "      <td>0.046906</td>\n",
       "      <td>0.046547</td>\n",
       "    </tr>\n",
       "    <tr>\n",
       "      <th>20</th>\n",
       "      <td>regionidzip</td>\n",
       "      <td>0.043182</td>\n",
       "      <td>0.043471</td>\n",
       "      <td>0.042899</td>\n",
       "    </tr>\n",
       "    <tr>\n",
       "      <th>16</th>\n",
       "      <td>rawcensustractandblock</td>\n",
       "      <td>0.041757</td>\n",
       "      <td>0.040861</td>\n",
       "      <td>0.039985</td>\n",
       "    </tr>\n",
       "    <tr>\n",
       "      <th>0</th>\n",
       "      <td>transactionMonth</td>\n",
       "      <td>0.034863</td>\n",
       "      <td>0.039273</td>\n",
       "      <td>0.037416</td>\n",
       "    </tr>\n",
       "    <tr>\n",
       "      <th>17</th>\n",
       "      <td>regionidcity</td>\n",
       "      <td>0.024638</td>\n",
       "      <td>0.024669</td>\n",
       "      <td>0.023884</td>\n",
       "    </tr>\n",
       "    <tr>\n",
       "      <th>19</th>\n",
       "      <td>regionidneighborhood</td>\n",
       "      <td>0.023719</td>\n",
       "      <td>0.025338</td>\n",
       "      <td>0.024490</td>\n",
       "    </tr>\n",
       "    <tr>\n",
       "      <th>3</th>\n",
       "      <td>bedroomcnt</td>\n",
       "      <td>0.017625</td>\n",
       "      <td>0.019533</td>\n",
       "      <td>0.018116</td>\n",
       "    </tr>\n",
       "    <tr>\n",
       "      <th>2</th>\n",
       "      <td>bathroomcnt</td>\n",
       "      <td>0.012678</td>\n",
       "      <td>0.011670</td>\n",
       "      <td>0.011661</td>\n",
       "    </tr>\n",
       "    <tr>\n",
       "      <th>10</th>\n",
       "      <td>garagetotalsqft</td>\n",
       "      <td>0.012668</td>\n",
       "      <td>0.012193</td>\n",
       "      <td>0.012730</td>\n",
       "    </tr>\n",
       "    <tr>\n",
       "      <th>8</th>\n",
       "      <td>fullbathcnt</td>\n",
       "      <td>0.009424</td>\n",
       "      <td>0.008599</td>\n",
       "      <td>0.009567</td>\n",
       "    </tr>\n",
       "    <tr>\n",
       "      <th>15</th>\n",
       "      <td>propertylandusetypeid</td>\n",
       "      <td>0.009148</td>\n",
       "      <td>0.010020</td>\n",
       "      <td>0.008671</td>\n",
       "    </tr>\n",
       "    <tr>\n",
       "      <th>4</th>\n",
       "      <td>buildingqualitytypeid</td>\n",
       "      <td>0.008768</td>\n",
       "      <td>0.008047</td>\n",
       "      <td>0.008073</td>\n",
       "    </tr>\n",
       "    <tr>\n",
       "      <th>11</th>\n",
       "      <td>heatingorsystemtypeid</td>\n",
       "      <td>0.008443</td>\n",
       "      <td>0.008085</td>\n",
       "      <td>0.007888</td>\n",
       "    </tr>\n",
       "    <tr>\n",
       "      <th>1</th>\n",
       "      <td>airconditioningtypeid</td>\n",
       "      <td>0.007466</td>\n",
       "      <td>0.007892</td>\n",
       "      <td>0.007386</td>\n",
       "    </tr>\n",
       "    <tr>\n",
       "      <th>21</th>\n",
       "      <td>roomcnt</td>\n",
       "      <td>0.006397</td>\n",
       "      <td>0.006173</td>\n",
       "      <td>0.005806</td>\n",
       "    </tr>\n",
       "    <tr>\n",
       "      <th>24</th>\n",
       "      <td>numberofstories</td>\n",
       "      <td>0.004699</td>\n",
       "      <td>0.003667</td>\n",
       "      <td>0.003519</td>\n",
       "    </tr>\n",
       "    <tr>\n",
       "      <th>22</th>\n",
       "      <td>unitcnt</td>\n",
       "      <td>0.003539</td>\n",
       "      <td>0.003430</td>\n",
       "      <td>0.003451</td>\n",
       "    </tr>\n",
       "    <tr>\n",
       "      <th>9</th>\n",
       "      <td>garagecarcnt</td>\n",
       "      <td>0.002219</td>\n",
       "      <td>0.002345</td>\n",
       "      <td>0.002738</td>\n",
       "    </tr>\n",
       "    <tr>\n",
       "      <th>7</th>\n",
       "      <td>fips</td>\n",
       "      <td>0.001235</td>\n",
       "      <td>0.000918</td>\n",
       "      <td>0.000850</td>\n",
       "    </tr>\n",
       "    <tr>\n",
       "      <th>18</th>\n",
       "      <td>regionidcounty</td>\n",
       "      <td>0.001040</td>\n",
       "      <td>0.001613</td>\n",
       "      <td>0.001185</td>\n",
       "    </tr>\n",
       "    <tr>\n",
       "      <th>27</th>\n",
       "      <td>assessmentyear</td>\n",
       "      <td>0.000000</td>\n",
       "      <td>0.000000</td>\n",
       "      <td>0.000000</td>\n",
       "    </tr>\n",
       "  </tbody>\n",
       "</table>\n",
       "</div>"
      ],
      "text/plain": [
       "                    Feature_Name  Importance1  Importance2  Importance3\n",
       "25    structuretaxvaluedollarcnt     0.091907     0.087095     0.086916\n",
       "13                     longitude     0.089549     0.085481     0.086857\n",
       "12                      latitude     0.088636     0.087380     0.089807\n",
       "29                     taxamount     0.079193     0.085111     0.084454\n",
       "14             lotsizesquarefeet     0.077618     0.079115     0.081567\n",
       "28         landtaxvaluedollarcnt     0.072793     0.071059     0.070156\n",
       "26             taxvaluedollarcnt     0.067917     0.067311     0.069685\n",
       "5   calculatedfinishedsquarefeet     0.057163     0.057805     0.057918\n",
       "23                     yearbuilt     0.055712     0.054938     0.055777\n",
       "6           finishedsquarefeet12     0.046004     0.046906     0.046547\n",
       "20                   regionidzip     0.043182     0.043471     0.042899\n",
       "16        rawcensustractandblock     0.041757     0.040861     0.039985\n",
       "0               transactionMonth     0.034863     0.039273     0.037416\n",
       "17                  regionidcity     0.024638     0.024669     0.023884\n",
       "19          regionidneighborhood     0.023719     0.025338     0.024490\n",
       "3                     bedroomcnt     0.017625     0.019533     0.018116\n",
       "2                    bathroomcnt     0.012678     0.011670     0.011661\n",
       "10               garagetotalsqft     0.012668     0.012193     0.012730\n",
       "8                    fullbathcnt     0.009424     0.008599     0.009567\n",
       "15         propertylandusetypeid     0.009148     0.010020     0.008671\n",
       "4          buildingqualitytypeid     0.008768     0.008047     0.008073\n",
       "11         heatingorsystemtypeid     0.008443     0.008085     0.007888\n",
       "1          airconditioningtypeid     0.007466     0.007892     0.007386\n",
       "21                       roomcnt     0.006397     0.006173     0.005806\n",
       "24               numberofstories     0.004699     0.003667     0.003519\n",
       "22                       unitcnt     0.003539     0.003430     0.003451\n",
       "9                   garagecarcnt     0.002219     0.002345     0.002738\n",
       "7                           fips     0.001235     0.000918     0.000850\n",
       "18                regionidcounty     0.001040     0.001613     0.001185\n",
       "27                assessmentyear     0.000000     0.000000     0.000000"
      ]
     },
     "execution_count": 43,
     "metadata": {},
     "output_type": "execute_result"
    }
   ],
   "source": [
    "list.sort_values(by=['Importance1', 'Importance2','Importance3'], ascending=[False, False,False])"
   ]
  },
  {
   "cell_type": "code",
   "execution_count": 44,
   "metadata": {
    "collapsed": false
   },
   "outputs": [
    {
     "data": {
      "image/png": "[encoded data removed]",
      "text/plain": [
       "<matplotlib.figure.Figure at 0x169013fa2e8>"
      ]
     },
     "metadata": {},
     "output_type": "display_data"
    }
   ],
   "source": [
    "#l3=list.sort_values(by=['Importance3'], ascending=[True])\n",
    "plt.title('Feature Importances with Median Imputer')\n",
    "plt.barh(range(len(list['Feature_Name'])), list.sort_values(by=['Importance3'], ascending=[True])['Importance3'], \n",
    "         color='b', align='center')\n",
    "plt.yticks(range(len(list['Feature_Name'])), names) \n",
    "plt.xlabel('Relative Importance')\n",
    "plt.show()\n"
   ]
  },
  {
   "cell_type": "code",
   "execution_count": null,
   "metadata": {
    "collapsed": true
   },
   "outputs": [],
   "source": []
  },
  {
   "cell_type": "code",
   "execution_count": 45,
   "metadata": {
    "collapsed": false
   },
   "outputs": [],
   "source": [
    "def check(s):\n",
    "  num = ''\n",
    "  for letter in s:\n",
    "    if letter in '.-0123456789':\n",
    "      num += letter\n",
    "  if num == '':\n",
    "    print ('Bad input')\n",
    "  else:\n",
    "    return float(num)"
   ]
  },
  {
   "cell_type": "code",
   "execution_count": 46,
   "metadata": {
    "collapsed": false
   },
   "outputs": [
    {
     "name": "stdout",
     "output_type": "stream",
     "text": [
      "Bad input\n"
     ]
    }
   ],
   "source": [
    "check(train)"
   ]
  },
  {
   "cell_type": "code",
   "execution_count": null,
   "metadata": {
    "collapsed": true
   },
   "outputs": [],
   "source": []
  }
 ],
 "metadata": {
  "kernelspec": {
   "display_name": "Python 3",
   "language": "python",
   "name": "python3"
  },
  "language_info": {
   "codemirror_mode": {
    "name": "ipython",
    "version": 3
   },
   "file_extension": ".py",
   "mimetype": "text/x-python",
   "name": "python",
   "nbconvert_exporter": "python",
   "pygments_lexer": "ipython3",
   "version": "3.6.0"
  }
 },
 "nbformat": 4,
 "nbformat_minor": 2
}
